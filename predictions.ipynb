{
 "cells": [
  {
   "cell_type": "code",
   "execution_count": 2,
   "metadata": {
    "colab": {},
    "colab_type": "code",
    "id": "VQUNU5sIzjbQ"
   },
   "outputs": [],
   "source": [
    "import numpy as np\n",
    "import pandas as pd\n",
    "import seaborn as sns\n",
    "import matplotlib.pyplot as plt\n",
    "\n",
    "from sklearn.preprocessing import LabelBinarizer, StandardScaler, PolynomialFeatures\n",
    "from sklearn.metrics import mean_squared_error, r2_score, mean_absolute_error\n",
    "from sklearn.model_selection import train_test_split, GridSearchCV, KFold, learning_curve, validation_curve\n",
    "from sklearn.linear_model import LinearRegression, Ridge, SGDRegressor, Lasso, ElasticNet\n",
    "from sklearn.ensemble import RandomForestRegressor\n",
    "import xgboost as xgb\n",
    "\n",
    "import warnings\n",
    "warnings.filterwarnings('ignore')"
   ]
  },
  {
   "cell_type": "code",
   "execution_count": 3,
   "metadata": {
    "colab": {},
    "colab_type": "code",
    "id": "ccqjYr5gztPE"
   },
   "outputs": [],
   "source": [
    "RANDOM_STATE = 80"
   ]
  },
  {
   "cell_type": "code",
   "execution_count": 4,
   "metadata": {
    "colab": {
     "base_uri": "https://localhost:8080/",
     "height": 33
    },
    "colab_type": "code",
    "id": "R-rT2pxYzt3L",
    "outputId": "0b0a16f2-6590-4aba-85cf-a48f0b697685"
   },
   "outputs": [
    {
     "name": "stdout",
     "output_type": "stream",
     "text": [
      "(19983, 17)\n"
     ]
    }
   ],
   "source": [
    "cars = pd.read_csv('data/preprocessed_data.csv')\n",
    "print(cars.shape)"
   ]
  },
  {
   "cell_type": "code",
   "execution_count": 5,
   "metadata": {
    "colab": {
     "base_uri": "https://localhost:8080/",
     "height": 266
    },
    "colab_type": "code",
    "id": "I035wWHgm39C",
    "outputId": "32e59454-5b29-4a61-da0b-bbc111f4c497"
   },
   "outputs": [
    {
     "data": {
      "text/html": [
       "<div>\n",
       "<style scoped>\n",
       "    .dataframe tbody tr th:only-of-type {\n",
       "        vertical-align: middle;\n",
       "    }\n",
       "\n",
       "    .dataframe tbody tr th {\n",
       "        vertical-align: top;\n",
       "    }\n",
       "\n",
       "    .dataframe thead th {\n",
       "        text-align: right;\n",
       "    }\n",
       "</style>\n",
       "<table border=\"1\" class=\"dataframe\">\n",
       "  <thead>\n",
       "    <tr style=\"text-align: right;\">\n",
       "      <th></th>\n",
       "      <th>label</th>\n",
       "      <th>model</th>\n",
       "      <th>generation</th>\n",
       "      <th>modification</th>\n",
       "      <th>year</th>\n",
       "      <th>mileage</th>\n",
       "      <th>condition</th>\n",
       "      <th>doors_num</th>\n",
       "      <th>body</th>\n",
       "      <th>engine</th>\n",
       "      <th>transmission</th>\n",
       "      <th>color</th>\n",
       "      <th>drive</th>\n",
       "      <th>wheel</th>\n",
       "      <th>package</th>\n",
       "      <th>price</th>\n",
       "      <th>restyling</th>\n",
       "    </tr>\n",
       "  </thead>\n",
       "  <tbody>\n",
       "    <tr>\n",
       "      <th>13070</th>\n",
       "      <td>Toyota</td>\n",
       "      <td>Camry</td>\n",
       "      <td>XV40</td>\n",
       "      <td>167</td>\n",
       "      <td>2007.0</td>\n",
       "      <td>260000.0</td>\n",
       "      <td>не битый</td>\n",
       "      <td>4.0</td>\n",
       "      <td>седан</td>\n",
       "      <td>бензин</td>\n",
       "      <td>механика</td>\n",
       "      <td>чёрный</td>\n",
       "      <td>передний</td>\n",
       "      <td>левый</td>\n",
       "      <td>Base</td>\n",
       "      <td>560000</td>\n",
       "      <td>Нет</td>\n",
       "    </tr>\n",
       "    <tr>\n",
       "      <th>3271</th>\n",
       "      <td>Ford</td>\n",
       "      <td>Escape</td>\n",
       "      <td>II</td>\n",
       "      <td>145</td>\n",
       "      <td>2008.0</td>\n",
       "      <td>181000.0</td>\n",
       "      <td>не битый</td>\n",
       "      <td>5.0</td>\n",
       "      <td>внедорожник</td>\n",
       "      <td>бензин</td>\n",
       "      <td>автомат</td>\n",
       "      <td>серый</td>\n",
       "      <td>полный</td>\n",
       "      <td>левый</td>\n",
       "      <td>Base</td>\n",
       "      <td>535000</td>\n",
       "      <td>Нет</td>\n",
       "    </tr>\n",
       "    <tr>\n",
       "      <th>18429</th>\n",
       "      <td>ГАЗ</td>\n",
       "      <td>ГАЗель 3302</td>\n",
       "      <td>I</td>\n",
       "      <td>90</td>\n",
       "      <td>2001.0</td>\n",
       "      <td>100000.0</td>\n",
       "      <td>не битый</td>\n",
       "      <td>2.0</td>\n",
       "      <td>фургон</td>\n",
       "      <td>бензин</td>\n",
       "      <td>механика</td>\n",
       "      <td>белый</td>\n",
       "      <td>задний</td>\n",
       "      <td>левый</td>\n",
       "      <td>Base</td>\n",
       "      <td>120000</td>\n",
       "      <td>Нет</td>\n",
       "    </tr>\n",
       "    <tr>\n",
       "      <th>18867</th>\n",
       "      <td>ГАЗ</td>\n",
       "      <td>24 Волга</td>\n",
       "      <td>2410</td>\n",
       "      <td>90</td>\n",
       "      <td>1988.0</td>\n",
       "      <td>55000.0</td>\n",
       "      <td>не битый</td>\n",
       "      <td>4.0</td>\n",
       "      <td>седан</td>\n",
       "      <td>бензин</td>\n",
       "      <td>механика</td>\n",
       "      <td>белый</td>\n",
       "      <td>задний</td>\n",
       "      <td>левый</td>\n",
       "      <td>Base</td>\n",
       "      <td>135000</td>\n",
       "      <td>Нет</td>\n",
       "    </tr>\n",
       "    <tr>\n",
       "      <th>1367</th>\n",
       "      <td>Chevrolet</td>\n",
       "      <td>Niva</td>\n",
       "      <td>I</td>\n",
       "      <td>80</td>\n",
       "      <td>2011.0</td>\n",
       "      <td>90000.0</td>\n",
       "      <td>не битый</td>\n",
       "      <td>5.0</td>\n",
       "      <td>внедорожник</td>\n",
       "      <td>бензин</td>\n",
       "      <td>механика</td>\n",
       "      <td>зелёный</td>\n",
       "      <td>полный</td>\n",
       "      <td>левый</td>\n",
       "      <td>Bertone Edition</td>\n",
       "      <td>310000</td>\n",
       "      <td>Да</td>\n",
       "    </tr>\n",
       "  </tbody>\n",
       "</table>\n",
       "</div>"
      ],
      "text/plain": [
       "           label        model generation  ...          package   price  restyling\n",
       "13070     Toyota        Camry       XV40  ...             Base  560000        Нет\n",
       "3271        Ford       Escape         II  ...             Base  535000        Нет\n",
       "18429        ГАЗ  ГАЗель 3302          I  ...             Base  120000        Нет\n",
       "18867        ГАЗ     24 Волга       2410  ...             Base  135000        Нет\n",
       "1367   Chevrolet         Niva          I  ...  Bertone Edition  310000         Да\n",
       "\n",
       "[5 rows x 17 columns]"
      ]
     },
     "execution_count": 5,
     "metadata": {
      "tags": []
     },
     "output_type": "execute_result"
    }
   ],
   "source": [
    "#Перемешаем данные\n",
    "cars = cars.sample(frac=1, random_state=RANDOM_STATE)\n",
    "cars.head()"
   ]
  },
  {
   "cell_type": "code",
   "execution_count": 6,
   "metadata": {
    "colab": {},
    "colab_type": "code",
    "id": "CTj5KRrCm39K"
   },
   "outputs": [],
   "source": [
    "CATEGORICAL_FEATURES = ['label', 'model', 'generation', 'body', 'engine',\n",
    "                        'transmission', 'color', 'drive', 'wheel', 'package']\n",
    "\n",
    "NUMERIC_FEATURES = ['modification', 'year', 'mileage', 'doors_num']"
   ]
  },
  {
   "cell_type": "code",
   "execution_count": 7,
   "metadata": {
    "colab": {},
    "colab_type": "code",
    "id": "w06P_Uxum39S"
   },
   "outputs": [],
   "source": [
    "def preprocess_categorical_features(dataframe):\n",
    "    \n",
    "    # Преобразование бинарных признаков\n",
    "    lb = LabelBinarizer()\n",
    "    dataframe['condition'] = lb.fit_transform(dataframe['condition'])\n",
    "    dataframe['restyling'] = lb.fit_transform(dataframe['restyling'])\n",
    "    \n",
    "    # Пребразование категориальных признаков\n",
    "    dataframe = pd.get_dummies(dataframe, columns=CATEGORICAL_FEATURES)\n",
    "    print(f\"We have {dataframe.shape[1]} features after one-hot encoding\")\n",
    "    return dataframe"
   ]
  },
  {
   "cell_type": "code",
   "execution_count": 8,
   "metadata": {
    "colab": {},
    "colab_type": "code",
    "id": "shaRiGOUgSsg"
   },
   "outputs": [],
   "source": [
    "def preprocess_numeric_features(X_train, X_test):\n",
    "    \n",
    "    scaler = StandardScaler()\n",
    "    poly = PolynomialFeatures(interaction_only=True)\n",
    " \n",
    "    X_train[NUMERIC_FEATURES] = scaler.fit_transform(X_train[NUMERIC_FEATURES])\n",
    "    X_test[NUMERIC_FEATURES] = scaler.transform(X_test[NUMERIC_FEATURES])\n",
    "    \n",
    "    train_matrix = pd.DataFrame(poly.fit_transform(X_train[NUMERIC_FEATURES]), index=X_train.index)\n",
    "    test_matrix = pd.DataFrame(poly.transform(X_test[NUMERIC_FEATURES]), index=X_test.index)\n",
    "    \n",
    "    return X_train.join(train_matrix), X_test.join(test_matrix)"
   ]
  },
  {
   "cell_type": "code",
   "execution_count": 9,
   "metadata": {
    "colab": {},
    "colab_type": "code",
    "id": "bzvRdE-4kh_a"
   },
   "outputs": [],
   "source": [
    "def make_grid_cv(estimator, params_grid):\n",
    "\n",
    "    cv = KFold(n_splits=3)\n",
    "    grid_cv = GridSearchCV(estimator, params_grid, cv=cv, verbose=True)\n",
    "    return grid_cv"
   ]
  },
  {
   "cell_type": "code",
   "execution_count": 10,
   "metadata": {
    "colab": {},
    "colab_type": "code",
    "id": "EnRVf6e-fot8"
   },
   "outputs": [],
   "source": [
    "def make_prediction(model, params_fixed, params_grid=None):\n",
    "\n",
    "    # Train/test split\n",
    "    X_train, X_test, y_train, y_test = train_test_split(cars.drop(['price'], axis=1), \n",
    "                                                        np.log(cars['price']), test_size=0.3,\n",
    "                                                        shuffle=True, random_state=RANDOM_STATE)\n",
    "  \n",
    "    # Standardize data for linear models\n",
    "    if model in [Ridge, Lasso, ElasticNet, SGDRegressor]:\n",
    "        X_train, X_test = preprocess_numeric_features(X_train, X_test)\n",
    "\n",
    "    estimator = model(**params_fixed)\n",
    "\n",
    "    if params_grid:\n",
    "        estimator = make_grid_cv(estimator, params_grid)\n",
    "\n",
    "    estimator.fit(X_train, y_train)\n",
    "    y_preds = estimator.predict(X_test)\n",
    "    print('MSE: ', mean_squared_error(y_test, y_preds))\n",
    "    print('R2: ', r2_score(y_test, y_preds))\n",
    "    print('MAE: ', mean_absolute_error(np.exp(y_test), np.exp(y_preds)))\n",
    "    return estimator, y_test, y_preds"
   ]
  },
  {
   "cell_type": "markdown",
   "metadata": {
    "colab_type": "text",
    "id": "wtnDjXpdm39r"
   },
   "source": [
    "## Baseline (Ridge model with polynomial features)\n",
    "Посмотрим, какое качество выдаст Ridge-регрессия (линейная регрессия с  𝑅2 -регуляризатором) на имеющихся данных:"
   ]
  },
  {
   "cell_type": "code",
   "execution_count": 11,
   "metadata": {
    "colab": {
     "base_uri": "https://localhost:8080/",
     "height": 33
    },
    "colab_type": "code",
    "id": "lzgT2uMdm39t",
    "outputId": "3dd2999d-ab0d-48a1-b5ab-ed19f3a0d1aa"
   },
   "outputs": [
    {
     "name": "stdout",
     "output_type": "stream",
     "text": [
      "We have 1515 features after one-hot encoding\n"
     ]
    }
   ],
   "source": [
    "cars = preprocess_categorical_features(cars)"
   ]
  },
  {
   "cell_type": "code",
   "execution_count": 12,
   "metadata": {
    "colab": {},
    "colab_type": "code",
    "id": "FliC90-Zy4ZJ"
   },
   "outputs": [],
   "source": [
    "fixed_params = {'random_state': RANDOM_STATE}"
   ]
  },
  {
   "cell_type": "code",
   "execution_count": 13,
   "metadata": {
    "colab": {
     "base_uri": "https://localhost:8080/",
     "height": 100
    },
    "colab_type": "code",
    "id": "Ew3vCrlhm394",
    "outputId": "ae50d1db-5e98-4a30-a55f-3c711f5d82e2"
   },
   "outputs": [
    {
     "name": "stdout",
     "output_type": "stream",
     "text": [
      "\tRidge model (Baseline)\n",
      "\n",
      "MSE:  0.08868996066108126\n",
      "R2:  0.8934433034775497\n",
      "MAE:  64908.07303004497\n"
     ]
    }
   ],
   "source": [
    "print(\"\\tRidge model (Baseline)\\n\")\n",
    "make_prediction(Ridge, fixed_params);"
   ]
  },
  {
   "cell_type": "markdown",
   "metadata": {},
   "source": [
    "В среднем Baseline ошибается на 65.000 рублей; хотелось бы снизить MAE до 60.000 рублей.\n",
    "### Теперь посмотрим на важность признаков, обучив Random Forest\n",
    "  \n",
    "  "
   ]
  },
  {
   "cell_type": "code",
   "execution_count": 14,
   "metadata": {
    "colab": {
     "base_uri": "https://localhost:8080/",
     "height": 100
    },
    "colab_type": "code",
    "id": "NdieiWGum3-A",
    "outputId": "4f63c232-494c-433f-c520-e17fc9748494"
   },
   "outputs": [
    {
     "name": "stdout",
     "output_type": "stream",
     "text": [
      "\tRandom Forest (Baseline)\n",
      "\n",
      "MSE:  0.08538285405426707\n",
      "R2:  0.8974166320532193\n",
      "MAE:  64420.93128768849\n"
     ]
    }
   ],
   "source": [
    "print(\"\\tRandom Forest (Baseline)\\n\")\n",
    "rf, _, _ = make_prediction(RandomForestRegressor, fixed_params)"
   ]
  },
  {
   "cell_type": "code",
   "execution_count": 15,
   "metadata": {
    "colab": {},
    "colab_type": "code",
    "id": "ofBd5JBLm3-I"
   },
   "outputs": [],
   "source": [
    "def plot_feature_importance(features, importance):\n",
    "    \n",
    "    f, ax = plt.subplots(figsize=(12,6))\n",
    "    \n",
    "    feature_weights = pd.DataFrame({'index': features, 'importance': importance})\n",
    "    feature_weights.sort_values(by=['importance'], ascending=False, inplace=True)\n",
    "    sns.barplot(x='index', y='importance', data=feature_weights.head(10))\n",
    "    ax.set_xlabel(\"\")\n",
    "    ax.set_xlabel(\"\")\n",
    "    f.tight_layout()\n",
    "    plt.title(\"Random Forest feature importance\", size=20)\n",
    "    plt.show()"
   ]
  },
  {
   "cell_type": "code",
   "execution_count": 16,
   "metadata": {
    "colab": {
     "base_uri": "https://localhost:8080/",
     "height": 462
    },
    "colab_type": "code",
    "id": "IRGeqhTnm3-O",
    "outputId": "24e3277c-ecd6-4ad8-c297-bd90873fe9bb"
   },
   "outputs": [
    {
     "data": {
      "image/png": "[encoded data removed]",
      "text/plain": [
       "<Figure size 864x432 with 1 Axes>"
      ]
     },
     "metadata": {
      "needs_background": "light",
      "tags": []
     },
     "output_type": "display_data"
    }
   ],
   "source": [
    "features = cars.drop(['price'], axis=1).columns\n",
    "plot_feature_importance(features, rf.feature_importances_)"
   ]
  },
  {
   "cell_type": "markdown",
   "metadata": {},
   "source": [
    "Самые важные признаки - **мощность** и **год выпуска**.  \n",
    "Добавим признак **car_newness**, который обозначает новизну автомобиля (сколько лет прошло спустя даты выпуска модели):"
   ]
  },
  {
   "cell_type": "code",
   "execution_count": 17,
   "metadata": {
    "colab": {
     "base_uri": "https://localhost:8080/",
     "height": 266
    },
    "colab_type": "code",
    "id": "BnameCvXm3-V",
    "outputId": "6893d69b-9c70-4b17-98c6-2f7e85d737fc"
   },
   "outputs": [
    {
     "data": {
      "text/html": [
       "<div>\n",
       "<style scoped>\n",
       "    .dataframe tbody tr th:only-of-type {\n",
       "        vertical-align: middle;\n",
       "    }\n",
       "\n",
       "    .dataframe tbody tr th {\n",
       "        vertical-align: top;\n",
       "    }\n",
       "\n",
       "    .dataframe thead th {\n",
       "        text-align: right;\n",
       "    }\n",
       "</style>\n",
       "<table border=\"1\" class=\"dataframe\">\n",
       "  <thead>\n",
       "    <tr style=\"text-align: right;\">\n",
       "      <th></th>\n",
       "      <th>label</th>\n",
       "      <th>model</th>\n",
       "      <th>generation</th>\n",
       "      <th>modification</th>\n",
       "      <th>year</th>\n",
       "      <th>mileage</th>\n",
       "      <th>condition</th>\n",
       "      <th>doors_num</th>\n",
       "      <th>body</th>\n",
       "      <th>engine</th>\n",
       "      <th>transmission</th>\n",
       "      <th>color</th>\n",
       "      <th>drive</th>\n",
       "      <th>wheel</th>\n",
       "      <th>package</th>\n",
       "      <th>price</th>\n",
       "      <th>restyling</th>\n",
       "      <th>car_newness</th>\n",
       "    </tr>\n",
       "  </thead>\n",
       "  <tbody>\n",
       "    <tr>\n",
       "      <th>13070</th>\n",
       "      <td>Toyota</td>\n",
       "      <td>Camry</td>\n",
       "      <td>XV40</td>\n",
       "      <td>167</td>\n",
       "      <td>2007.0</td>\n",
       "      <td>260000.0</td>\n",
       "      <td>не битый</td>\n",
       "      <td>4.0</td>\n",
       "      <td>седан</td>\n",
       "      <td>бензин</td>\n",
       "      <td>механика</td>\n",
       "      <td>чёрный</td>\n",
       "      <td>передний</td>\n",
       "      <td>левый</td>\n",
       "      <td>Base</td>\n",
       "      <td>560000</td>\n",
       "      <td>Нет</td>\n",
       "      <td>13.0</td>\n",
       "    </tr>\n",
       "    <tr>\n",
       "      <th>3271</th>\n",
       "      <td>Ford</td>\n",
       "      <td>Escape</td>\n",
       "      <td>II</td>\n",
       "      <td>145</td>\n",
       "      <td>2008.0</td>\n",
       "      <td>181000.0</td>\n",
       "      <td>не битый</td>\n",
       "      <td>5.0</td>\n",
       "      <td>внедорожник</td>\n",
       "      <td>бензин</td>\n",
       "      <td>автомат</td>\n",
       "      <td>серый</td>\n",
       "      <td>полный</td>\n",
       "      <td>левый</td>\n",
       "      <td>Base</td>\n",
       "      <td>535000</td>\n",
       "      <td>Нет</td>\n",
       "      <td>12.0</td>\n",
       "    </tr>\n",
       "    <tr>\n",
       "      <th>18429</th>\n",
       "      <td>ГАЗ</td>\n",
       "      <td>ГАЗель 3302</td>\n",
       "      <td>I</td>\n",
       "      <td>90</td>\n",
       "      <td>2001.0</td>\n",
       "      <td>100000.0</td>\n",
       "      <td>не битый</td>\n",
       "      <td>2.0</td>\n",
       "      <td>фургон</td>\n",
       "      <td>бензин</td>\n",
       "      <td>механика</td>\n",
       "      <td>белый</td>\n",
       "      <td>задний</td>\n",
       "      <td>левый</td>\n",
       "      <td>Base</td>\n",
       "      <td>120000</td>\n",
       "      <td>Нет</td>\n",
       "      <td>19.0</td>\n",
       "    </tr>\n",
       "    <tr>\n",
       "      <th>18867</th>\n",
       "      <td>ГАЗ</td>\n",
       "      <td>24 Волга</td>\n",
       "      <td>2410</td>\n",
       "      <td>90</td>\n",
       "      <td>1988.0</td>\n",
       "      <td>55000.0</td>\n",
       "      <td>не битый</td>\n",
       "      <td>4.0</td>\n",
       "      <td>седан</td>\n",
       "      <td>бензин</td>\n",
       "      <td>механика</td>\n",
       "      <td>белый</td>\n",
       "      <td>задний</td>\n",
       "      <td>левый</td>\n",
       "      <td>Base</td>\n",
       "      <td>135000</td>\n",
       "      <td>Нет</td>\n",
       "      <td>32.0</td>\n",
       "    </tr>\n",
       "    <tr>\n",
       "      <th>1367</th>\n",
       "      <td>Chevrolet</td>\n",
       "      <td>Niva</td>\n",
       "      <td>I</td>\n",
       "      <td>80</td>\n",
       "      <td>2011.0</td>\n",
       "      <td>90000.0</td>\n",
       "      <td>не битый</td>\n",
       "      <td>5.0</td>\n",
       "      <td>внедорожник</td>\n",
       "      <td>бензин</td>\n",
       "      <td>механика</td>\n",
       "      <td>зелёный</td>\n",
       "      <td>полный</td>\n",
       "      <td>левый</td>\n",
       "      <td>Bertone Edition</td>\n",
       "      <td>310000</td>\n",
       "      <td>Да</td>\n",
       "      <td>9.0</td>\n",
       "    </tr>\n",
       "  </tbody>\n",
       "</table>\n",
       "</div>"
      ],
      "text/plain": [
       "           label        model generation  ...   price  restyling  car_newness\n",
       "13070     Toyota        Camry       XV40  ...  560000        Нет         13.0\n",
       "3271        Ford       Escape         II  ...  535000        Нет         12.0\n",
       "18429        ГАЗ  ГАЗель 3302          I  ...  120000        Нет         19.0\n",
       "18867        ГАЗ     24 Волга       2410  ...  135000        Нет         32.0\n",
       "1367   Chevrolet         Niva          I  ...  310000         Да          9.0\n",
       "\n",
       "[5 rows x 18 columns]"
      ]
     },
     "execution_count": 17,
     "metadata": {
      "tags": []
     },
     "output_type": "execute_result"
    }
   ],
   "source": [
    "cars = pd.read_csv('data/preprocessed_data.csv')\n",
    "cars = cars.sample(frac=1, random_state=RANDOM_STATE)\n",
    "cars['car_newness'] = 2020 - cars['year']\n",
    "cars.head()"
   ]
  },
  {
   "cell_type": "code",
   "execution_count": 18,
   "metadata": {
    "colab": {
     "base_uri": "https://localhost:8080/",
     "height": 33
    },
    "colab_type": "code",
    "id": "Q3zibNwrm3-c",
    "outputId": "1c022dcc-ca2c-46a3-82b0-e738c50f9a9b"
   },
   "outputs": [
    {
     "name": "stdout",
     "output_type": "stream",
     "text": [
      "We have 1516 features after one-hot encoding\n"
     ]
    }
   ],
   "source": [
    "cars = preprocess_categorical_features(cars)"
   ]
  },
  {
   "cell_type": "code",
   "execution_count": 19,
   "metadata": {
    "colab": {
     "base_uri": "https://localhost:8080/",
     "height": 100
    },
    "colab_type": "code",
    "id": "eHO5zgrWCpFj",
    "outputId": "af2b5d52-72f9-4a7f-c9bb-97fe671326fd"
   },
   "outputs": [
    {
     "name": "stdout",
     "output_type": "stream",
     "text": [
      "\tRidge model (with new feature)\n",
      "\n",
      "MSE:  0.08869073717821754\n",
      "R2:  0.8934423705297818\n",
      "MAE:  64906.147623581885\n"
     ]
    }
   ],
   "source": [
    "print(\"\\tRidge model (with new feature)\\n\")\n",
    "make_prediction(Ridge, fixed_params);"
   ]
  },
  {
   "cell_type": "code",
   "execution_count": 20,
   "metadata": {
    "colab": {
     "base_uri": "https://localhost:8080/",
     "height": 100
    },
    "colab_type": "code",
    "id": "OYVTGNOliZ1p",
    "outputId": "e6825d53-e0ea-4825-d04a-edd5c8973089"
   },
   "outputs": [
    {
     "name": "stdout",
     "output_type": "stream",
     "text": [
      "\tRandom Forest\n",
      "\n",
      "MSE:  0.08536775592071119\n",
      "R2:  0.8974347717301724\n",
      "MAE:  64321.738147459895\n"
     ]
    }
   ],
   "source": [
    "print(\"\\tRandom Forest\\n\")\n",
    "rf, _, _ = make_prediction(RandomForestRegressor, fixed_params)"
   ]
  },
  {
   "cell_type": "code",
   "execution_count": 21,
   "metadata": {
    "colab": {
     "base_uri": "https://localhost:8080/",
     "height": 462
    },
    "colab_type": "code",
    "id": "BlfWq9GdnnZp",
    "outputId": "b3c7269a-3e9d-4e53-a719-aa7be3395874"
   },
   "outputs": [
    {
     "data": {
      "image/png": "[encoded data removed]",
      "text/plain": [
       "<Figure size 864x432 with 1 Axes>"
      ]
     },
     "metadata": {
      "needs_background": "light",
      "tags": []
     },
     "output_type": "display_data"
    }
   ],
   "source": [
    "features = cars.drop(['price'], axis=1).columns\n",
    "plot_feature_importance(features, rf.feature_importances_)"
   ]
  },
  {
   "cell_type": "code",
   "execution_count": 22,
   "metadata": {
    "colab": {
     "base_uri": "https://localhost:8080/",
     "height": 462
    },
    "colab_type": "code",
    "id": "Wt0kAn8xFbqJ",
    "outputId": "5a2bf2f5-c576-4940-a335-f93e07540774"
   },
   "outputs": [
    {
     "data": {
      "image/png": "[encoded data removed]",
      "text/plain": [
       "<Figure size 864x432 with 1 Axes>"
      ]
     },
     "metadata": {
      "needs_background": "light",
      "tags": []
     },
     "output_type": "display_data"
    }
   ],
   "source": [
    "packages_feat = [x for x in features if x.startswith('model')]\n",
    "indexes = [list(features.values).index(x) for x in packages_feat]\n",
    "plot_feature_importance(packages_feat, rf.feature_importances_[indexes])"
   ]
  },
  {
   "cell_type": "code",
   "execution_count": 23,
   "metadata": {
    "colab": {
     "base_uri": "https://localhost:8080/",
     "height": 462
    },
    "colab_type": "code",
    "id": "7xKnPbv1Dv9M",
    "outputId": "8d62c205-ddc3-4225-c188-05d61d77803c"
   },
   "outputs": [
    {
     "data": {
      "image/png": "[encoded data removed]",
      "text/plain": [
       "<Figure size 864x432 with 1 Axes>"
      ]
     },
     "metadata": {
      "needs_background": "light",
      "tags": []
     },
     "output_type": "display_data"
    }
   ],
   "source": [
    "packages_feat = [x for x in features if x.startswith('package')]\n",
    "indexes = [list(features.values).index(x) for x in packages_feat]\n",
    "plot_feature_importance(packages_feat, rf.feature_importances_[indexes])"
   ]
  },
  {
   "cell_type": "markdown",
   "metadata": {
    "colab_type": "text",
    "id": "vxBDE9sJ6Ab_"
   },
   "source": [
    "# **Linear models with tuning parameters**\n",
    "Попробуем подобрать наилучшие параметры для моделей"
   ]
  },
  {
   "cell_type": "code",
   "execution_count": null,
   "metadata": {
    "colab": {
     "base_uri": "https://localhost:8080/",
     "height": 167
    },
    "colab_type": "code",
    "id": "3ZXnvmRPk_M9",
    "outputId": "d2866fd7-bd9a-4f6f-ef57-179cf85fcdfb"
   },
   "outputs": [
    {
     "name": "stdout",
     "output_type": "stream",
     "text": [
      "\tLasso model (GridSearch)\n",
      "\n",
      "Fitting 3 folds for each of 10 candidates, totalling 30 fits\n"
     ]
    },
    {
     "name": "stderr",
     "output_type": "stream",
     "text": [
      "[Parallel(n_jobs=1)]: Using backend SequentialBackend with 1 concurrent workers.\n",
      "[Parallel(n_jobs=1)]: Done  30 out of  30 | elapsed:  2.3min finished\n"
     ]
    },
    {
     "name": "stdout",
     "output_type": "stream",
     "text": [
      "MSE:  0.08401853523479968\n",
      "R2:  0.8990557951030418\n",
      "MAE:  62274.20071910179\n",
      "{'alpha': 1e-05}\n"
     ]
    }
   ],
   "source": [
    "print(\"\\tLasso model (GridSearch)\\n\")\n",
    "params_grid = {'alpha': np.linspace(1e-05, 1e-03, num=10)}\n",
    "lr, _, _ = make_prediction(Lasso, fixed_params, params_grid)\n",
    "print(lr.best_params_)"
   ]
  },
  {
   "cell_type": "code",
   "execution_count": null,
   "metadata": {
    "colab": {
     "base_uri": "https://localhost:8080/",
     "height": 167
    },
    "colab_type": "code",
    "id": "Om5IEF9lHtzt",
    "outputId": "c370a033-dbc6-40c5-b0cb-9cebd5b62bd0"
   },
   "outputs": [
    {
     "name": "stdout",
     "output_type": "stream",
     "text": [
      "\tRidge model (GridSearch)\n",
      "\n",
      "Fitting 3 folds for each of 10 candidates, totalling 30 fits\n"
     ]
    },
    {
     "name": "stderr",
     "output_type": "stream",
     "text": [
      "[Parallel(n_jobs=1)]: Using backend SequentialBackend with 1 concurrent workers.\n",
      "[Parallel(n_jobs=1)]: Done  30 out of  30 | elapsed:   29.0s finished\n"
     ]
    },
    {
     "name": "stdout",
     "output_type": "stream",
     "text": [
      "MSE:  0.08258162690509722\n",
      "R2:  0.9007821709372108\n",
      "MAE:  62986.91223413821\n",
      "{'alpha': 1.2666666666666666}\n"
     ]
    }
   ],
   "source": [
    "print(\"\\tRidge model (GridSearch)\\n\")\n",
    "params_grid = {'alpha': np.linspace(0.9, 2, num=10)}\n",
    "lr, _, _ = make_prediction(Ridge, fixed_params, params_grid)\n",
    "print(lr.best_params_)"
   ]
  },
  {
   "cell_type": "code",
   "execution_count": null,
   "metadata": {
    "colab": {
     "base_uri": "https://localhost:8080/",
     "height": 167
    },
    "colab_type": "code",
    "id": "wkdP_xeCmY7F",
    "outputId": "2cdcf3ac-77c9-4c18-fc03-5eb801e012e3"
   },
   "outputs": [
    {
     "name": "stdout",
     "output_type": "stream",
     "text": [
      "\tElasticNet model (GridSearch)\n",
      "\n",
      "Fitting 3 folds for each of 10 candidates, totalling 30 fits\n"
     ]
    },
    {
     "name": "stderr",
     "output_type": "stream",
     "text": [
      "[Parallel(n_jobs=1)]: Using backend SequentialBackend with 1 concurrent workers.\n",
      "[Parallel(n_jobs=1)]: Done  30 out of  30 | elapsed:  6.2min finished\n"
     ]
    },
    {
     "name": "stdout",
     "output_type": "stream",
     "text": [
      "MSE:  0.08285522192101975\n",
      "R2:  0.9004534597633146\n",
      "MAE:  63130.88190086126\n",
      "{'alpha': 4e-05}\n"
     ]
    }
   ],
   "source": [
    "print(\"\\tElasticNet model (GridSearch)\\n\")\n",
    "params_grid = {'alpha': np.linspace(1e-05, 1e-04, num=10)}\n",
    "lr, _, _ = make_prediction(ElasticNet, fixed_params, params_grid)\n",
    "print(lr.best_params_)"
   ]
  },
  {
   "cell_type": "markdown",
   "metadata": {
    "colab_type": "text",
    "id": "fXnG4Mj6nzkP"
   },
   "source": [
    "# **Xgboost Tuning**\n",
    "Построим градиентный бустинг"
   ]
  },
  {
   "cell_type": "code",
   "execution_count": null,
   "metadata": {
    "colab": {},
    "colab_type": "code",
    "id": "vBpE1DvBz-Gm"
   },
   "outputs": [],
   "source": [
    "import xgboost as xgb"
   ]
  },
  {
   "cell_type": "code",
   "execution_count": null,
   "metadata": {
    "colab": {},
    "colab_type": "code",
    "id": "33QRcQ1C9AuQ"
   },
   "outputs": [],
   "source": [
    "def valid_curves_plot(hyperparam, param_range):\n",
    "    \n",
    "    X = cars.drop(['price'], axis=1)\n",
    "    y = np.log(cars['price'])\n",
    "\n",
    "    train_scores, test_scores = validation_curve(xgb.XGBRegressor(random_state=RANDOM_STATE, n_jobs=-1), \n",
    "                                                 X, y, param_name=hyperparam, param_range=param_range, \n",
    "                                                 cv=3, n_jobs=-1, scoring='r2')\n",
    "\n",
    "    train_scores_mean, train_scores_std  = np.mean(train_scores, axis=1), np.std(train_scores, axis=1)\n",
    "    test_scores_mean, test_scores_std = np.mean(test_scores, axis=1), np.std(test_scores, axis=1)\n",
    "    \n",
    "    plt.figure(figsize=(9,6))\n",
    "    plt.title('Validation curves for xgbRegressor')\n",
    "    plt.xlabel(hyperparam); plt.ylabel('R2')\n",
    "    plt.ylim(0.7, 1.0)\n",
    "    plt.fill_between(param_range, train_scores_mean - train_scores_std, \\\n",
    "                     train_scores_mean + train_scores_std, alpha=0.2, color=\"r\")\n",
    "    plt.plot(param_range, train_scores_mean, label='Training score', color=\"r\", marker='o')\n",
    "    plt.fill_between(param_range, test_scores_mean - test_scores_std, \\\n",
    "                     test_scores_mean + test_scores_std, alpha=0.2, color=\"g\")\n",
    "    plt.plot(param_range, test_scores_mean, label='Validation score', color=\"g\", marker='o')\n",
    "    plt.legend(loc=\"best\")\n",
    "    plt.xticks(param_range)\n",
    "    plt.show()"
   ]
  },
  {
   "cell_type": "code",
   "execution_count": null,
   "metadata": {
    "colab": {
     "base_uri": "https://localhost:8080/",
     "height": 438
    },
    "colab_type": "code",
    "id": "C5bbRLLcP81O",
    "outputId": "ab3e9011-14c7-497d-b94e-1f6c3c131e74"
   },
   "outputs": [
    {
     "data": {
      "image/png": "[encoded data removed]",
      "text/plain": [
       "<Figure size 648x432 with 1 Axes>"
      ]
     },
     "metadata": {
      "needs_background": "light",
      "tags": []
     },
     "output_type": "display_data"
    },
    {
     "name": "stdout",
     "output_type": "stream",
     "text": [
      "CPU times: user 492 ms, sys: 96 ms, total: 588 ms\n",
      "Wall time: 33min 46s\n"
     ]
    }
   ],
   "source": [
    "%%time\n",
    "valid_curves_plot(hyperparam='n_estimators', param_range=[100, 400, 700, 1000])"
   ]
  },
  {
   "cell_type": "code",
   "execution_count": null,
   "metadata": {
    "colab": {
     "base_uri": "https://localhost:8080/",
     "height": 438
    },
    "colab_type": "code",
    "id": "NmjXmv3DRnho",
    "outputId": "2e7abe54-e372-4520-986f-a611a5678026"
   },
   "outputs": [
    {
     "data": {
      "image/png": "[encoded data removed]",
      "text/plain": [
       "<Figure size 648x432 with 1 Axes>"
      ]
     },
     "metadata": {
      "needs_background": "light",
      "tags": []
     },
     "output_type": "display_data"
    },
    {
     "name": "stdout",
     "output_type": "stream",
     "text": [
      "CPU times: user 332 ms, sys: 110 ms, total: 442 ms\n",
      "Wall time: 6min 54s\n"
     ]
    }
   ],
   "source": [
    "%%time\n",
    "valid_curves_plot(hyperparam='max_depth', param_range=[3, 5, 7])"
   ]
  },
  {
   "cell_type": "code",
   "execution_count": null,
   "metadata": {
    "colab": {},
    "colab_type": "code",
    "id": "hzyiDM9-Bl6Z"
   },
   "outputs": [],
   "source": [
    "def plot_learning_curve(clf, scoring='r2', cv=5):\n",
    "\n",
    "    X = cars.drop(['price'], axis=1)\n",
    "    y = np.log(cars['price'])\n",
    "    train_sizes = np.arange(0.1, 1, 0.1)\n",
    "    n_train, train_scores, test_scores = learning_curve(clf, X, y, groups=None, train_sizes=train_sizes,\n",
    "                                                        cv=cv, scoring=scoring)\n",
    "    \n",
    "    plt.figure(figsize=(9,6))\n",
    "    plt.title('Learning curves for xgbRegressor')\n",
    "    plt.plot(n_train, train_scores.mean(axis=1), label='train', marker='o', c='green')\n",
    "    plt.plot(n_train, test_scores.mean(axis=1), label='validation', marker='o', c='red')\n",
    "    plt.xlabel('Training Set Size'); plt.ylabel(scoring)\n",
    "    plt.legend()"
   ]
  },
  {
   "cell_type": "code",
   "execution_count": null,
   "metadata": {
    "colab": {
     "base_uri": "https://localhost:8080/",
     "height": 404
    },
    "colab_type": "code",
    "id": "lXozr5YzBoGq",
    "outputId": "50974ec0-8fc0-4ff4-b9c1-61bb234c8faf"
   },
   "outputs": [
    {
     "data": {
      "image/png": "[encoded data removed]",
      "text/plain": [
       "<Figure size 648x432 with 1 Axes>"
      ]
     },
     "metadata": {
      "needs_background": "light",
      "tags": []
     },
     "output_type": "display_data"
    }
   ],
   "source": [
    "estimator = xgb.XGBRegressor(**fixed_params, objective='reg:squarederror')\n",
    "plot_learning_curve(estimator)"
   ]
  },
  {
   "cell_type": "markdown",
   "metadata": {},
   "source": [
    "- Чем больше тренировочных данных, тем меньше модель переобучается"
   ]
  },
  {
   "cell_type": "markdown",
   "metadata": {},
   "source": [
    "## Best model "
   ]
  },
  {
   "cell_type": "code",
   "execution_count": null,
   "metadata": {
    "colab": {
     "base_uri": "https://localhost:8080/",
     "height": 134
    },
    "colab_type": "code",
    "id": "h8t8qmY2ohDm",
    "outputId": "99a85371-6df5-4000-8b10-c43c18c05457"
   },
   "outputs": [
    {
     "name": "stdout",
     "output_type": "stream",
     "text": [
      "\tXGBregressor\n",
      "\n",
      "MSE:  0.07836615077249649\n",
      "R2:  0.9058468615471851\n",
      "MAE:  60652.88700642462\n",
      "CPU times: user 25min 59s, sys: 320 ms, total: 25min 59s\n",
      "Wall time: 26min\n"
     ]
    }
   ],
   "source": [
    "%%time\n",
    "print(\"\\tXGBregressor\\n\")\n",
    "fixed_params = {'random_state': RANDOM_STATE, 'n_estimators': 1800,\n",
    "                'gamma': 0, 'learning_rate': 0.05, \n",
    "                'max_depth': 5,\n",
    "                'min_child_weight': 2,\n",
    "                'objective': 'reg:squarederror',\n",
    "                'reg_alpha': 0.75, 'reg_lambda': 0.5,\n",
    "                'subsample': 0.7}\n",
    "estimator, y_true, y_preds = make_prediction(xgb.XGBRegressor, fixed_params)"
   ]
  },
  {
   "cell_type": "code",
   "execution_count": null,
   "metadata": {
    "colab": {
     "base_uri": "https://localhost:8080/",
     "height": 127
    },
    "colab_type": "code",
    "id": "a9zWKhIvHJMC",
    "outputId": "3283c5ca-4662-4ba0-d370-123a534f2037"
   },
   "outputs": [
    {
     "data": {
      "text/html": [
       "<div>\n",
       "<style scoped>\n",
       "    .dataframe tbody tr th:only-of-type {\n",
       "        vertical-align: middle;\n",
       "    }\n",
       "\n",
       "    .dataframe tbody tr th {\n",
       "        vertical-align: top;\n",
       "    }\n",
       "\n",
       "    .dataframe thead th {\n",
       "        text-align: right;\n",
       "    }\n",
       "</style>\n",
       "<table border=\"1\" class=\"dataframe\">\n",
       "  <thead>\n",
       "    <tr style=\"text-align: right;\">\n",
       "      <th></th>\n",
       "      <th>8953</th>\n",
       "      <th>8462</th>\n",
       "      <th>1976</th>\n",
       "      <th>17125</th>\n",
       "      <th>1623</th>\n",
       "      <th>14950</th>\n",
       "      <th>2065</th>\n",
       "      <th>17432</th>\n",
       "      <th>14966</th>\n",
       "      <th>14541</th>\n",
       "      <th>14997</th>\n",
       "      <th>3303</th>\n",
       "      <th>2815</th>\n",
       "      <th>16166</th>\n",
       "      <th>57</th>\n",
       "      <th>14281</th>\n",
       "      <th>12567</th>\n",
       "      <th>11602</th>\n",
       "      <th>18182</th>\n",
       "      <th>18192</th>\n",
       "    </tr>\n",
       "  </thead>\n",
       "  <tbody>\n",
       "    <tr>\n",
       "      <th>true</th>\n",
       "      <td>130000.00000</td>\n",
       "      <td>60000.00000</td>\n",
       "      <td>470000.00000</td>\n",
       "      <td>700000.000000</td>\n",
       "      <td>210000.00000</td>\n",
       "      <td>110000.000000</td>\n",
       "      <td>299000.0000</td>\n",
       "      <td>455000.00000</td>\n",
       "      <td>40000.000000</td>\n",
       "      <td>700000.0000</td>\n",
       "      <td>30000.000000</td>\n",
       "      <td>235000.00000</td>\n",
       "      <td>100000.00000</td>\n",
       "      <td>35000.000000</td>\n",
       "      <td>2700000.0</td>\n",
       "      <td>1650000.00</td>\n",
       "      <td>210000.00000</td>\n",
       "      <td>830000.000</td>\n",
       "      <td>219990.000</td>\n",
       "      <td>570000.00000</td>\n",
       "    </tr>\n",
       "    <tr>\n",
       "      <th>predictions</th>\n",
       "      <td>172716.90625</td>\n",
       "      <td>40020.34375</td>\n",
       "      <td>488223.65625</td>\n",
       "      <td>43553.507812</td>\n",
       "      <td>165182.59375</td>\n",
       "      <td>104939.484375</td>\n",
       "      <td>304049.4375</td>\n",
       "      <td>458399.65625</td>\n",
       "      <td>40359.003906</td>\n",
       "      <td>867598.9375</td>\n",
       "      <td>53408.796875</td>\n",
       "      <td>289361.15625</td>\n",
       "      <td>118089.40625</td>\n",
       "      <td>39359.101562</td>\n",
       "      <td>2217544.0</td>\n",
       "      <td>1675554.25</td>\n",
       "      <td>165349.65625</td>\n",
       "      <td>815271.625</td>\n",
       "      <td>193476.375</td>\n",
       "      <td>473978.53125</td>\n",
       "    </tr>\n",
       "  </tbody>\n",
       "</table>\n",
       "</div>"
      ],
      "text/plain": [
       "                    8953         8462   ...       18182         18192\n",
       "true         130000.00000  60000.00000  ...  219990.000  570000.00000\n",
       "predictions  172716.90625  40020.34375  ...  193476.375  473978.53125\n",
       "\n",
       "[2 rows x 20 columns]"
      ]
     },
     "execution_count": 27,
     "metadata": {
      "tags": []
     },
     "output_type": "execute_result"
    }
   ],
   "source": [
    "predictions_frame = pd.DataFrame({'true': np.exp(y_true), 'predictions': np.exp(y_preds)})\n",
    "predictions_frame.head(20).T"
   ]
  },
  {
   "cell_type": "markdown",
   "metadata": {},
   "source": [
    "В целом, лучшая построенная модель в среднем ошибается на 60.000 рублей; Как видно из таблицы, модель достаточно неплохо предсказывает цену автомобиля.\n",
    "Идеи для повышения точности:\n",
    "- Во-первых, следует увеличить объем тренировочных данных. Например, можно каждый день парсить новые объявления, пока в датасете не будет 50К объявлений.\n",
    "- Из графика Feature importance видно, что самым значимым признаком для модели является **modification** (мощность автомобиля в л.с.). Предположительно, наличие в датасете технических характеристик, которые связаны с мощностью, таких как *Объем двигателя*, *Разгон до 100 км* увеличат точность модели.\n",
    "- Более тщательный перебор лучших параметров для моделей.\n",
    "- Блендинг моделей."
   ]
  }
 ],
 "metadata": {
  "colab": {
   "collapsed_sections": [],
   "name": "Untitled1.ipynb",
   "provenance": [],
   "toc_visible": true
  },
  "kernelspec": {
   "display_name": "Python 3",
   "language": "python",
   "name": "python3"
  },
  "language_info": {
   "codemirror_mode": {
    "name": "ipython",
    "version": 3
   },
   "file_extension": ".py",
   "mimetype": "text/x-python",
   "name": "python",
   "nbconvert_exporter": "python",
   "pygments_lexer": "ipython3",
   "version": "3.7.1"
  }
 },
 "nbformat": 4,
 "nbformat_minor": 1
}
