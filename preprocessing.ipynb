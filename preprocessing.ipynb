{
 "cells": [
  {
   "cell_type": "code",
   "execution_count": 1,
   "metadata": {},
   "outputs": [],
   "source": [
    "import numpy as np\n",
    "import pandas as pd\n",
    "\n",
    "import warnings\n",
    "warnings.filterwarnings('ignore')"
   ]
  },
  {
   "cell_type": "markdown",
   "metadata": {},
   "source": [
    "## Описание набора данных и признаков\n",
    "\n",
    "С сайта [avito.ru](https://www.avito.ru/) по состоянию на 12 августа 2020 года я спарсила 20716 объявлений о продаже автомобилей в Нижегородской области. Каждое объявление содержит технические характеристики автомобиля, а также цену продажи. \n",
    "\n",
    "Проект посвящен исследованию данных объявлений на предмет предсказания цены автомобиля на основании его технических характеристик."
   ]
  },
  {
   "cell_type": "code",
   "execution_count": 2,
   "metadata": {},
   "outputs": [],
   "source": [
    "COLUMNS = ['label', 'model', 'generation', 'modification', 'year', 'mileage', 'condition',\n",
    "           'doors_num', 'body', 'engine', 'transmission', 'color', 'drive', 'wheel', 'package', 'price']"
   ]
  },
  {
   "cell_type": "code",
   "execution_count": 3,
   "metadata": {},
   "outputs": [
    {
     "data": {
      "text/html": [
       "<div>\n",
       "<style scoped>\n",
       "    .dataframe tbody tr th:only-of-type {\n",
       "        vertical-align: middle;\n",
       "    }\n",
       "\n",
       "    .dataframe tbody tr th {\n",
       "        vertical-align: top;\n",
       "    }\n",
       "\n",
       "    .dataframe thead th {\n",
       "        text-align: right;\n",
       "    }\n",
       "</style>\n",
       "<table border=\"1\" class=\"dataframe\">\n",
       "  <thead>\n",
       "    <tr style=\"text-align: right;\">\n",
       "      <th></th>\n",
       "      <th>label</th>\n",
       "      <th>model</th>\n",
       "      <th>generation</th>\n",
       "      <th>modification</th>\n",
       "      <th>year</th>\n",
       "      <th>mileage</th>\n",
       "      <th>condition</th>\n",
       "      <th>doors_num</th>\n",
       "      <th>body</th>\n",
       "      <th>engine</th>\n",
       "      <th>transmission</th>\n",
       "      <th>color</th>\n",
       "      <th>drive</th>\n",
       "      <th>wheel</th>\n",
       "      <th>package</th>\n",
       "      <th>price</th>\n",
       "    </tr>\n",
       "  </thead>\n",
       "  <tbody>\n",
       "    <tr>\n",
       "      <th>0</th>\n",
       "      <td>Audi</td>\n",
       "      <td>A4</td>\n",
       "      <td>B9 (2015—н. в.)</td>\n",
       "      <td>35 TFSI 1.4 S tronic (150 л.с.)</td>\n",
       "      <td>2017.0</td>\n",
       "      <td>89000 км</td>\n",
       "      <td>не битый</td>\n",
       "      <td>4.0</td>\n",
       "      <td>седан</td>\n",
       "      <td>бензин</td>\n",
       "      <td>робот</td>\n",
       "      <td>зелёный</td>\n",
       "      <td>передний</td>\n",
       "      <td>левый</td>\n",
       "      <td>NaN</td>\n",
       "      <td>1490000</td>\n",
       "    </tr>\n",
       "    <tr>\n",
       "      <th>1</th>\n",
       "      <td>Audi</td>\n",
       "      <td>Q5</td>\n",
       "      <td>I рестайлинг (2012—2017)</td>\n",
       "      <td>2.0 TDI quattro S tronic (170 л.с.)</td>\n",
       "      <td>2012.0</td>\n",
       "      <td>104000 км</td>\n",
       "      <td>не битый</td>\n",
       "      <td>5.0</td>\n",
       "      <td>внедорожник</td>\n",
       "      <td>дизель</td>\n",
       "      <td>робот</td>\n",
       "      <td>чёрный</td>\n",
       "      <td>полный</td>\n",
       "      <td>левый</td>\n",
       "      <td>Base</td>\n",
       "      <td>950000</td>\n",
       "    </tr>\n",
       "    <tr>\n",
       "      <th>2</th>\n",
       "      <td>Audi</td>\n",
       "      <td>A8</td>\n",
       "      <td>D4 рестайлинг (2013—2017)</td>\n",
       "      <td>3.0 TFSI quattro Tiptronic (310 л.с.)</td>\n",
       "      <td>2014.0</td>\n",
       "      <td>41000 км</td>\n",
       "      <td>битый</td>\n",
       "      <td>4.0</td>\n",
       "      <td>седан</td>\n",
       "      <td>бензин</td>\n",
       "      <td>автомат</td>\n",
       "      <td>чёрный</td>\n",
       "      <td>полный</td>\n",
       "      <td>левый</td>\n",
       "      <td>Base</td>\n",
       "      <td>960000</td>\n",
       "    </tr>\n",
       "    <tr>\n",
       "      <th>3</th>\n",
       "      <td>Audi</td>\n",
       "      <td>Q5</td>\n",
       "      <td>I (2008—2012)</td>\n",
       "      <td>2.0 TFSI quattro S tronic (211 л.с.)</td>\n",
       "      <td>2010.0</td>\n",
       "      <td>113043 км</td>\n",
       "      <td>не битый</td>\n",
       "      <td>5.0</td>\n",
       "      <td>внедорожник</td>\n",
       "      <td>бензин</td>\n",
       "      <td>робот</td>\n",
       "      <td>серый</td>\n",
       "      <td>полный</td>\n",
       "      <td>левый</td>\n",
       "      <td>Base</td>\n",
       "      <td>897000</td>\n",
       "    </tr>\n",
       "    <tr>\n",
       "      <th>4</th>\n",
       "      <td>Audi</td>\n",
       "      <td>Q7</td>\n",
       "      <td>4M (2015—н. в.)</td>\n",
       "      <td>3.0 TDI quattro AT (249 л.с.)</td>\n",
       "      <td>2017.0</td>\n",
       "      <td>149116 км</td>\n",
       "      <td>не битый</td>\n",
       "      <td>5.0</td>\n",
       "      <td>внедорожник</td>\n",
       "      <td>дизель</td>\n",
       "      <td>автомат</td>\n",
       "      <td>синий</td>\n",
       "      <td>полный</td>\n",
       "      <td>левый</td>\n",
       "      <td>Business</td>\n",
       "      <td>3700000</td>\n",
       "    </tr>\n",
       "  </tbody>\n",
       "</table>\n",
       "</div>"
      ],
      "text/plain": [
       "  label model                 generation  \\\n",
       "0  Audi    A4            B9 (2015—н. в.)   \n",
       "1  Audi    Q5   I рестайлинг (2012—2017)   \n",
       "2  Audi    A8  D4 рестайлинг (2013—2017)   \n",
       "3  Audi    Q5              I (2008—2012)   \n",
       "4  Audi    Q7            4M (2015—н. в.)   \n",
       "\n",
       "                            modification    year    mileage condition  \\\n",
       "0        35 TFSI 1.4 S tronic (150 л.с.)  2017.0   89000 км  не битый   \n",
       "1    2.0 TDI quattro S tronic (170 л.с.)  2012.0  104000 км  не битый   \n",
       "2  3.0 TFSI quattro Tiptronic (310 л.с.)  2014.0   41000 км     битый   \n",
       "3   2.0 TFSI quattro S tronic (211 л.с.)  2010.0  113043 км  не битый   \n",
       "4          3.0 TDI quattro AT (249 л.с.)  2017.0  149116 км  не битый   \n",
       "\n",
       "   doors_num         body  engine transmission    color     drive  wheel  \\\n",
       "0        4.0        седан  бензин        робот  зелёный  передний  левый   \n",
       "1        5.0  внедорожник  дизель        робот   чёрный    полный  левый   \n",
       "2        4.0        седан  бензин      автомат   чёрный    полный  левый   \n",
       "3        5.0  внедорожник  бензин        робот    серый    полный  левый   \n",
       "4        5.0  внедорожник  дизель      автомат    синий    полный  левый   \n",
       "\n",
       "    package    price  \n",
       "0       NaN  1490000  \n",
       "1      Base   950000  \n",
       "2      Base   960000  \n",
       "3      Base   897000  \n",
       "4  Business  3700000  "
      ]
     },
     "execution_count": 3,
     "metadata": {},
     "output_type": "execute_result"
    }
   ],
   "source": [
    "cars = pd.read_csv('data/avito_cars.csv', engine='python', names=COLUMNS)\n",
    "cars.head()"
   ]
  },
  {
   "cell_type": "code",
   "execution_count": 4,
   "metadata": {},
   "outputs": [
    {
     "data": {
      "text/plain": [
       "(20716, 16)"
      ]
     },
     "execution_count": 4,
     "metadata": {},
     "output_type": "execute_result"
    }
   ],
   "source": [
    "cars.shape"
   ]
  },
  {
   "cell_type": "code",
   "execution_count": 5,
   "metadata": {},
   "outputs": [
    {
     "name": "stdout",
     "output_type": "stream",
     "text": [
      "<class 'pandas.core.frame.DataFrame'>\n",
      "RangeIndex: 20716 entries, 0 to 20715\n",
      "Data columns (total 16 columns):\n",
      " #   Column        Non-Null Count  Dtype  \n",
      "---  ------        --------------  -----  \n",
      " 0   label         20665 non-null  object \n",
      " 1   model         20664 non-null  object \n",
      " 2   generation    20664 non-null  object \n",
      " 3   modification  20664 non-null  object \n",
      " 4   year          20664 non-null  float64\n",
      " 5   mileage       20171 non-null  object \n",
      " 6   condition     20171 non-null  object \n",
      " 7   doors_num     20664 non-null  float64\n",
      " 8   body          20664 non-null  object \n",
      " 9   engine        20664 non-null  object \n",
      " 10  transmission  20664 non-null  object \n",
      " 11  color         20664 non-null  object \n",
      " 12  drive         20664 non-null  object \n",
      " 13  wheel         20645 non-null  object \n",
      " 14  package       17386 non-null  object \n",
      " 15  price         20715 non-null  object \n",
      "dtypes: float64(2), object(14)\n",
      "memory usage: 2.5+ MB\n"
     ]
    }
   ],
   "source": [
    "cars.info()"
   ]
  },
  {
   "cell_type": "markdown",
   "metadata": {},
   "source": [
    "Пройдёмся по переменным:\n",
    "- label - марка автомобиля\n",
    "- model - модель\n",
    "- generation - поколение\n",
    "- modification  - модификация\n",
    "- year  - год выпуска автомобиля\n",
    "- mileage  - пробег \n",
    "- condition  - состояние автомобиля (бинарный признак)\n",
    "- doors_num - количество дверей\n",
    "- body - тип кузова\n",
    "- engine - тип двигателя\n",
    "- transmission - коробка передач\n",
    "- color - цвет автомобиля\n",
    "- drive - тип привода\n",
    "- wheel - руль\n",
    "- package - комплектация\n",
    "- price - цена, целевая переменная"
   ]
  },
  {
   "cell_type": "markdown",
   "metadata": {},
   "source": [
    "## Предобработка данных (Data Preprocessing)"
   ]
  },
  {
   "cell_type": "markdown",
   "metadata": {},
   "source": [
    "В первую очередь требуется удалить 51 строку, в которых значения всех переменных, кроме цены, пропущены. Возможно, при обработке данных объявлений парсером произошла какая-то ошибка."
   ]
  },
  {
   "cell_type": "code",
   "execution_count": 6,
   "metadata": {},
   "outputs": [
    {
     "data": {
      "text/html": [
       "<div>\n",
       "<style scoped>\n",
       "    .dataframe tbody tr th:only-of-type {\n",
       "        vertical-align: middle;\n",
       "    }\n",
       "\n",
       "    .dataframe tbody tr th {\n",
       "        vertical-align: top;\n",
       "    }\n",
       "\n",
       "    .dataframe thead th {\n",
       "        text-align: right;\n",
       "    }\n",
       "</style>\n",
       "<table border=\"1\" class=\"dataframe\">\n",
       "  <thead>\n",
       "    <tr style=\"text-align: right;\">\n",
       "      <th></th>\n",
       "      <th>label</th>\n",
       "      <th>model</th>\n",
       "      <th>generation</th>\n",
       "      <th>modification</th>\n",
       "      <th>year</th>\n",
       "      <th>mileage</th>\n",
       "      <th>condition</th>\n",
       "      <th>doors_num</th>\n",
       "      <th>body</th>\n",
       "      <th>engine</th>\n",
       "      <th>transmission</th>\n",
       "      <th>color</th>\n",
       "      <th>drive</th>\n",
       "      <th>wheel</th>\n",
       "      <th>package</th>\n",
       "      <th>price</th>\n",
       "    </tr>\n",
       "  </thead>\n",
       "  <tbody>\n",
       "    <tr>\n",
       "      <th>5</th>\n",
       "      <td>NaN</td>\n",
       "      <td>NaN</td>\n",
       "      <td>NaN</td>\n",
       "      <td>NaN</td>\n",
       "      <td>NaN</td>\n",
       "      <td>NaN</td>\n",
       "      <td>NaN</td>\n",
       "      <td>NaN</td>\n",
       "      <td>NaN</td>\n",
       "      <td>NaN</td>\n",
       "      <td>NaN</td>\n",
       "      <td>NaN</td>\n",
       "      <td>NaN</td>\n",
       "      <td>NaN</td>\n",
       "      <td>NaN</td>\n",
       "      <td>1295000</td>\n",
       "    </tr>\n",
       "    <tr>\n",
       "      <th>89</th>\n",
       "      <td>NaN</td>\n",
       "      <td>NaN</td>\n",
       "      <td>NaN</td>\n",
       "      <td>NaN</td>\n",
       "      <td>NaN</td>\n",
       "      <td>NaN</td>\n",
       "      <td>NaN</td>\n",
       "      <td>NaN</td>\n",
       "      <td>NaN</td>\n",
       "      <td>NaN</td>\n",
       "      <td>NaN</td>\n",
       "      <td>NaN</td>\n",
       "      <td>NaN</td>\n",
       "      <td>NaN</td>\n",
       "      <td>NaN</td>\n",
       "      <td>490000</td>\n",
       "    </tr>\n",
       "    <tr>\n",
       "      <th>389</th>\n",
       "      <td>NaN</td>\n",
       "      <td>NaN</td>\n",
       "      <td>NaN</td>\n",
       "      <td>NaN</td>\n",
       "      <td>NaN</td>\n",
       "      <td>NaN</td>\n",
       "      <td>NaN</td>\n",
       "      <td>NaN</td>\n",
       "      <td>NaN</td>\n",
       "      <td>NaN</td>\n",
       "      <td>NaN</td>\n",
       "      <td>NaN</td>\n",
       "      <td>NaN</td>\n",
       "      <td>NaN</td>\n",
       "      <td>NaN</td>\n",
       "      <td>270000</td>\n",
       "    </tr>\n",
       "    <tr>\n",
       "      <th>463</th>\n",
       "      <td>NaN</td>\n",
       "      <td>NaN</td>\n",
       "      <td>NaN</td>\n",
       "      <td>NaN</td>\n",
       "      <td>NaN</td>\n",
       "      <td>NaN</td>\n",
       "      <td>NaN</td>\n",
       "      <td>NaN</td>\n",
       "      <td>NaN</td>\n",
       "      <td>NaN</td>\n",
       "      <td>NaN</td>\n",
       "      <td>NaN</td>\n",
       "      <td>NaN</td>\n",
       "      <td>NaN</td>\n",
       "      <td>NaN</td>\n",
       "      <td>560000</td>\n",
       "    </tr>\n",
       "    <tr>\n",
       "      <th>818</th>\n",
       "      <td>NaN</td>\n",
       "      <td>NaN</td>\n",
       "      <td>NaN</td>\n",
       "      <td>NaN</td>\n",
       "      <td>NaN</td>\n",
       "      <td>NaN</td>\n",
       "      <td>NaN</td>\n",
       "      <td>NaN</td>\n",
       "      <td>NaN</td>\n",
       "      <td>NaN</td>\n",
       "      <td>NaN</td>\n",
       "      <td>NaN</td>\n",
       "      <td>NaN</td>\n",
       "      <td>NaN</td>\n",
       "      <td>NaN</td>\n",
       "      <td>1000000</td>\n",
       "    </tr>\n",
       "  </tbody>\n",
       "</table>\n",
       "</div>"
      ],
      "text/plain": [
       "    label model generation modification  year mileage condition  doors_num  \\\n",
       "5     NaN   NaN        NaN          NaN   NaN     NaN       NaN        NaN   \n",
       "89    NaN   NaN        NaN          NaN   NaN     NaN       NaN        NaN   \n",
       "389   NaN   NaN        NaN          NaN   NaN     NaN       NaN        NaN   \n",
       "463   NaN   NaN        NaN          NaN   NaN     NaN       NaN        NaN   \n",
       "818   NaN   NaN        NaN          NaN   NaN     NaN       NaN        NaN   \n",
       "\n",
       "    body engine transmission color drive wheel package    price  \n",
       "5    NaN    NaN          NaN   NaN   NaN   NaN     NaN  1295000  \n",
       "89   NaN    NaN          NaN   NaN   NaN   NaN     NaN   490000  \n",
       "389  NaN    NaN          NaN   NaN   NaN   NaN     NaN   270000  \n",
       "463  NaN    NaN          NaN   NaN   NaN   NaN     NaN   560000  \n",
       "818  NaN    NaN          NaN   NaN   NaN   NaN     NaN  1000000  "
      ]
     },
     "execution_count": 6,
     "metadata": {},
     "output_type": "execute_result"
    }
   ],
   "source": [
    "cars[cars['model'].isna()].head()"
   ]
  },
  {
   "cell_type": "code",
   "execution_count": 7,
   "metadata": {},
   "outputs": [],
   "source": [
    "# Удаляем строки\n",
    "cars = cars[~cars['model'].isna()]"
   ]
  },
  {
   "cell_type": "markdown",
   "metadata": {},
   "source": [
    "### 1. Обработка дупликатов\n",
    "Посмотрим, содержатся ли в датасете повторяющиеся объявления, и удалим одинаковые записи:"
   ]
  },
  {
   "cell_type": "code",
   "execution_count": 8,
   "metadata": {},
   "outputs": [
    {
     "name": "stdout",
     "output_type": "stream",
     "text": [
      "Before: 20664\n"
     ]
    }
   ],
   "source": [
    "print(\"Before:\", cars.shape[0])"
   ]
  },
  {
   "cell_type": "code",
   "execution_count": 9,
   "metadata": {},
   "outputs": [
    {
     "data": {
      "text/plain": [
       "False    20489\n",
       "True       175\n",
       "dtype: int64"
      ]
     },
     "execution_count": 9,
     "metadata": {},
     "output_type": "execute_result"
    }
   ],
   "source": [
    "cars.duplicated().value_counts()"
   ]
  },
  {
   "cell_type": "markdown",
   "metadata": {},
   "source": [
    "Видим, что в датасете 175 дупликата. Избавимся от них: "
   ]
  },
  {
   "cell_type": "code",
   "execution_count": 10,
   "metadata": {},
   "outputs": [
    {
     "name": "stdout",
     "output_type": "stream",
     "text": [
      "After: 20489\n"
     ]
    }
   ],
   "source": [
    "cars.drop_duplicates(inplace=True)\n",
    "print(\"After:\", cars.shape[0])"
   ]
  },
  {
   "cell_type": "markdown",
   "metadata": {},
   "source": [
    "### 2. Обработка пропущенных значений\n",
    "Теперь займёмся пропусками:"
   ]
  },
  {
   "cell_type": "code",
   "execution_count": 11,
   "metadata": {},
   "outputs": [
    {
     "name": "stdout",
     "output_type": "stream",
     "text": [
      "<class 'pandas.core.frame.DataFrame'>\n",
      "Int64Index: 20489 entries, 0 to 20715\n",
      "Data columns (total 16 columns):\n",
      " #   Column        Non-Null Count  Dtype  \n",
      "---  ------        --------------  -----  \n",
      " 0   label         20489 non-null  object \n",
      " 1   model         20489 non-null  object \n",
      " 2   generation    20489 non-null  object \n",
      " 3   modification  20489 non-null  object \n",
      " 4   year          20489 non-null  float64\n",
      " 5   mileage       20000 non-null  object \n",
      " 6   condition     20000 non-null  object \n",
      " 7   doors_num     20489 non-null  float64\n",
      " 8   body          20489 non-null  object \n",
      " 9   engine        20489 non-null  object \n",
      " 10  transmission  20489 non-null  object \n",
      " 11  color         20489 non-null  object \n",
      " 12  drive         20489 non-null  object \n",
      " 13  wheel         20470 non-null  object \n",
      " 14  package       17239 non-null  object \n",
      " 15  price         20489 non-null  object \n",
      "dtypes: float64(2), object(14)\n",
      "memory usage: 2.7+ MB\n"
     ]
    }
   ],
   "source": [
    "cars.info()"
   ]
  },
  {
   "cell_type": "markdown",
   "metadata": {},
   "source": [
    "Имеем следующие признаки с пропущенными значениями:\n",
    "- mileage (пробег)\n",
    "- condition (состояние)\n",
    "- wheel (руль)\n",
    "- package (комплектация) "
   ]
  },
  {
   "cell_type": "code",
   "execution_count": 12,
   "metadata": {},
   "outputs": [],
   "source": [
    "# Преобразуем тип признака из object в int\n",
    "cars['mileage'] = cars[~cars['mileage'].isna()]['mileage'].apply(lambda x: x.split()[0]).astype('int')\n",
    "\n",
    "# Заменим пропущенные значения средним значением пробега\n",
    "cars['mileage'] = cars['mileage'].fillna(int(cars['mileage'].mean()))"
   ]
  },
  {
   "cell_type": "code",
   "execution_count": 13,
   "metadata": {},
   "outputs": [],
   "source": [
    "# Заменяем пропущенные значения модой\n",
    "cars['condition'] = cars['condition'].fillna(cars['condition'].mode()[0])\n",
    "cars['wheel'] = cars['wheel'].fillna(cars['wheel'].mode()[0])\n",
    "cars['package'] = cars['package'].fillna(cars['package'].mode()[0])"
   ]
  },
  {
   "cell_type": "code",
   "execution_count": 14,
   "metadata": {},
   "outputs": [
    {
     "name": "stdout",
     "output_type": "stream",
     "text": [
      "<class 'pandas.core.frame.DataFrame'>\n",
      "Int64Index: 20489 entries, 0 to 20715\n",
      "Data columns (total 16 columns):\n",
      " #   Column        Non-Null Count  Dtype  \n",
      "---  ------        --------------  -----  \n",
      " 0   label         20489 non-null  object \n",
      " 1   model         20489 non-null  object \n",
      " 2   generation    20489 non-null  object \n",
      " 3   modification  20489 non-null  object \n",
      " 4   year          20489 non-null  float64\n",
      " 5   mileage       20489 non-null  float64\n",
      " 6   condition     20489 non-null  object \n",
      " 7   doors_num     20489 non-null  float64\n",
      " 8   body          20489 non-null  object \n",
      " 9   engine        20489 non-null  object \n",
      " 10  transmission  20489 non-null  object \n",
      " 11  color         20489 non-null  object \n",
      " 12  drive         20489 non-null  object \n",
      " 13  wheel         20489 non-null  object \n",
      " 14  package       20489 non-null  object \n",
      " 15  price         20489 non-null  object \n",
      "dtypes: float64(3), object(13)\n",
      "memory usage: 2.7+ MB\n"
     ]
    }
   ],
   "source": [
    "cars.info()"
   ]
  },
  {
   "cell_type": "markdown",
   "metadata": {},
   "source": [
    "### 3. Преобразование переменных "
   ]
  },
  {
   "cell_type": "code",
   "execution_count": 15,
   "metadata": {},
   "outputs": [],
   "source": [
    "cars['price'] = cars['price'].apply(lambda s: ''.join([x for x in s if x.isdigit()])).astype('int32')"
   ]
  },
  {
   "cell_type": "markdown",
   "metadata": {},
   "source": [
    "Посмотрим на признак **generation**"
   ]
  },
  {
   "cell_type": "code",
   "execution_count": 16,
   "metadata": {},
   "outputs": [
    {
     "data": {
      "text/plain": [
       "I (2004—2013)                  581\n",
       "I (1977—н. в.)                 376\n",
       "I (2011—2018)                  375\n",
       "I рестайлинг (2003—2010)       374\n",
       "I (2007—2013)                  334\n",
       "                              ... \n",
       "I (1992—1995)                    1\n",
       "III (1996—2002)                  1\n",
       "I (1994—2006)                    1\n",
       "C216 рестайлинг (2010—2014)      1\n",
       "GD (2001—2008)                   1\n",
       "Name: generation, Length: 1200, dtype: int64"
      ]
     },
     "execution_count": 16,
     "metadata": {},
     "output_type": "execute_result"
    }
   ],
   "source": [
    "cars['generation'].value_counts()"
   ]
  },
  {
   "cell_type": "markdown",
   "metadata": {},
   "source": [
    "1200 уникальных значений - слишком много. К тому же, основное различие в признаках составляют года, указанные в скобках. Эта информация избыточна, поэтому нужно преобразовать признак.  \n",
    "\n",
    "Идея: добавим бинарный признак *restyling*"
   ]
  },
  {
   "cell_type": "code",
   "execution_count": 17,
   "metadata": {},
   "outputs": [
    {
     "name": "stdout",
     "output_type": "stream",
     "text": [
      "Cars with restyling: 5960\n"
     ]
    }
   ],
   "source": [
    "print(\"Cars with restyling:\", sum(cars['generation'].apply(lambda x: 'рестайлинг' in x)))\n",
    "cars['restyling'] = cars['generation'].apply(lambda x: 'рестайлинг' in x).map({True: 'Да', False: 'Нет'})"
   ]
  },
  {
   "cell_type": "code",
   "execution_count": 18,
   "metadata": {},
   "outputs": [
    {
     "data": {
      "text/plain": [
       "I (2004—2013)         581\n",
       "I (2011—2018)         381\n",
       "I (1977—н. в.)        376\n",
       "I (2003—2010)         374\n",
       "I (2007—2013)         334\n",
       "                     ... \n",
       "X100 (1998—2001)        1\n",
       "W463 3 (2015—2017)      1\n",
       "S10 (1982—1990)         1\n",
       "VIII (1995—2000)        1\n",
       "GD (2001—2008)          1\n",
       "Name: generation, Length: 1094, dtype: int64"
      ]
     },
     "execution_count": 18,
     "metadata": {},
     "output_type": "execute_result"
    }
   ],
   "source": [
    "cars['generation'] = cars['generation'].apply(lambda x: x.replace('рестайлинг ', ''))\n",
    "cars['generation'].value_counts()"
   ]
  },
  {
   "cell_type": "markdown",
   "metadata": {},
   "source": [
    "Уникальных значений стало 1094. Теперь отбросим информацию в скобках и оставим только порядковый номер поколения."
   ]
  },
  {
   "cell_type": "code",
   "execution_count": 19,
   "metadata": {},
   "outputs": [
    {
     "data": {
      "text/plain": [
       "I        10283\n",
       "II        2716\n",
       "III       1380\n",
       "IV         534\n",
       "V          290\n",
       "         ...  \n",
       "Y33          1\n",
       "R172         1\n",
       "F45          1\n",
       "T26          1\n",
       "GF/GC        1\n",
       "Name: generation, Length: 334, dtype: int64"
      ]
     },
     "execution_count": 19,
     "metadata": {},
     "output_type": "execute_result"
    }
   ],
   "source": [
    "cars['generation'] = cars['generation'].apply(lambda x: x.split()[0])\n",
    "cars['generation'].value_counts()"
   ]
  },
  {
   "cell_type": "markdown",
   "metadata": {},
   "source": [
    "Рассмотрим признак **modification**"
   ]
  },
  {
   "cell_type": "code",
   "execution_count": 20,
   "metadata": {
    "scrolled": true
   },
   "outputs": [
    {
     "data": {
      "text/plain": [
       "1.6 MT (81 л.с.)                  487\n",
       "1.6 MT (98 л.с.)                  481\n",
       "1.6 MT (87 л.с.)                  408\n",
       "1.7 MT (80 л.с.)                  350\n",
       "1.6 MT (106 л.с.)                 291\n",
       "                                 ... \n",
       "2.0 D MT (90 л.с.)                  1\n",
       "2.5 TURBO 4WD MT (265 л.с.)         1\n",
       "S 350 3.5 4MATIC AT (272 л.с.)      1\n",
       "1.6 AT (135 л.с.)                   1\n",
       "190 E 2.0 MT (105 л.с.)             1\n",
       "Name: modification, Length: 2264, dtype: int64"
      ]
     },
     "execution_count": 20,
     "metadata": {},
     "output_type": "execute_result"
    }
   ],
   "source": [
    "cars['modification'].value_counts()"
   ]
  },
  {
   "cell_type": "markdown",
   "metadata": {},
   "source": [
    "Имеем 2264 уникальных значений. Заметим, что в модификации содержится избыточная информация о коробке передач (MT - механическая, AT - автомат). Оставим в этом признаке только число лошадиных сил и преобразуем признак из категориального в вещественный."
   ]
  },
  {
   "cell_type": "code",
   "execution_count": 21,
   "metadata": {},
   "outputs": [],
   "source": [
    "cars['modification'] = cars['modification'].apply(lambda x: x[x.find('(')+1:-1].split()[0]).astype('int')"
   ]
  },
  {
   "cell_type": "code",
   "execution_count": 22,
   "metadata": {},
   "outputs": [
    {
     "data": {
      "text/html": [
       "<div>\n",
       "<style scoped>\n",
       "    .dataframe tbody tr th:only-of-type {\n",
       "        vertical-align: middle;\n",
       "    }\n",
       "\n",
       "    .dataframe tbody tr th {\n",
       "        vertical-align: top;\n",
       "    }\n",
       "\n",
       "    .dataframe thead th {\n",
       "        text-align: right;\n",
       "    }\n",
       "</style>\n",
       "<table border=\"1\" class=\"dataframe\">\n",
       "  <thead>\n",
       "    <tr style=\"text-align: right;\">\n",
       "      <th></th>\n",
       "      <th>label</th>\n",
       "      <th>model</th>\n",
       "      <th>generation</th>\n",
       "      <th>modification</th>\n",
       "      <th>year</th>\n",
       "      <th>mileage</th>\n",
       "      <th>condition</th>\n",
       "      <th>doors_num</th>\n",
       "      <th>body</th>\n",
       "      <th>engine</th>\n",
       "      <th>transmission</th>\n",
       "      <th>color</th>\n",
       "      <th>drive</th>\n",
       "      <th>wheel</th>\n",
       "      <th>package</th>\n",
       "      <th>price</th>\n",
       "      <th>restyling</th>\n",
       "    </tr>\n",
       "  </thead>\n",
       "  <tbody>\n",
       "    <tr>\n",
       "      <th>0</th>\n",
       "      <td>Audi</td>\n",
       "      <td>A4</td>\n",
       "      <td>B9</td>\n",
       "      <td>150</td>\n",
       "      <td>2017.0</td>\n",
       "      <td>89000.0</td>\n",
       "      <td>не битый</td>\n",
       "      <td>4.0</td>\n",
       "      <td>седан</td>\n",
       "      <td>бензин</td>\n",
       "      <td>робот</td>\n",
       "      <td>зелёный</td>\n",
       "      <td>передний</td>\n",
       "      <td>левый</td>\n",
       "      <td>Базовая</td>\n",
       "      <td>1490000</td>\n",
       "      <td>Нет</td>\n",
       "    </tr>\n",
       "    <tr>\n",
       "      <th>1</th>\n",
       "      <td>Audi</td>\n",
       "      <td>Q5</td>\n",
       "      <td>I</td>\n",
       "      <td>170</td>\n",
       "      <td>2012.0</td>\n",
       "      <td>104000.0</td>\n",
       "      <td>не битый</td>\n",
       "      <td>5.0</td>\n",
       "      <td>внедорожник</td>\n",
       "      <td>дизель</td>\n",
       "      <td>робот</td>\n",
       "      <td>чёрный</td>\n",
       "      <td>полный</td>\n",
       "      <td>левый</td>\n",
       "      <td>Base</td>\n",
       "      <td>950000</td>\n",
       "      <td>Да</td>\n",
       "    </tr>\n",
       "    <tr>\n",
       "      <th>2</th>\n",
       "      <td>Audi</td>\n",
       "      <td>A8</td>\n",
       "      <td>D4</td>\n",
       "      <td>310</td>\n",
       "      <td>2014.0</td>\n",
       "      <td>41000.0</td>\n",
       "      <td>битый</td>\n",
       "      <td>4.0</td>\n",
       "      <td>седан</td>\n",
       "      <td>бензин</td>\n",
       "      <td>автомат</td>\n",
       "      <td>чёрный</td>\n",
       "      <td>полный</td>\n",
       "      <td>левый</td>\n",
       "      <td>Base</td>\n",
       "      <td>960000</td>\n",
       "      <td>Да</td>\n",
       "    </tr>\n",
       "    <tr>\n",
       "      <th>3</th>\n",
       "      <td>Audi</td>\n",
       "      <td>Q5</td>\n",
       "      <td>I</td>\n",
       "      <td>211</td>\n",
       "      <td>2010.0</td>\n",
       "      <td>113043.0</td>\n",
       "      <td>не битый</td>\n",
       "      <td>5.0</td>\n",
       "      <td>внедорожник</td>\n",
       "      <td>бензин</td>\n",
       "      <td>робот</td>\n",
       "      <td>серый</td>\n",
       "      <td>полный</td>\n",
       "      <td>левый</td>\n",
       "      <td>Base</td>\n",
       "      <td>897000</td>\n",
       "      <td>Нет</td>\n",
       "    </tr>\n",
       "    <tr>\n",
       "      <th>4</th>\n",
       "      <td>Audi</td>\n",
       "      <td>Q7</td>\n",
       "      <td>4M</td>\n",
       "      <td>249</td>\n",
       "      <td>2017.0</td>\n",
       "      <td>149116.0</td>\n",
       "      <td>не битый</td>\n",
       "      <td>5.0</td>\n",
       "      <td>внедорожник</td>\n",
       "      <td>дизель</td>\n",
       "      <td>автомат</td>\n",
       "      <td>синий</td>\n",
       "      <td>полный</td>\n",
       "      <td>левый</td>\n",
       "      <td>Business</td>\n",
       "      <td>3700000</td>\n",
       "      <td>Нет</td>\n",
       "    </tr>\n",
       "  </tbody>\n",
       "</table>\n",
       "</div>"
      ],
      "text/plain": [
       "  label model generation  modification    year   mileage condition  doors_num  \\\n",
       "0  Audi    A4         B9           150  2017.0   89000.0  не битый        4.0   \n",
       "1  Audi    Q5          I           170  2012.0  104000.0  не битый        5.0   \n",
       "2  Audi    A8         D4           310  2014.0   41000.0     битый        4.0   \n",
       "3  Audi    Q5          I           211  2010.0  113043.0  не битый        5.0   \n",
       "4  Audi    Q7         4M           249  2017.0  149116.0  не битый        5.0   \n",
       "\n",
       "          body  engine transmission    color     drive  wheel   package  \\\n",
       "0        седан  бензин        робот  зелёный  передний  левый   Базовая   \n",
       "1  внедорожник  дизель        робот   чёрный    полный  левый      Base   \n",
       "2        седан  бензин      автомат   чёрный    полный  левый      Base   \n",
       "3  внедорожник  бензин        робот    серый    полный  левый      Base   \n",
       "4  внедорожник  дизель      автомат    синий    полный  левый  Business   \n",
       "\n",
       "     price restyling  \n",
       "0  1490000       Нет  \n",
       "1   950000        Да  \n",
       "2   960000        Да  \n",
       "3   897000       Нет  \n",
       "4  3700000       Нет  "
      ]
     },
     "execution_count": 22,
     "metadata": {},
     "output_type": "execute_result"
    }
   ],
   "source": [
    "cars.head()"
   ]
  },
  {
   "cell_type": "markdown",
   "metadata": {},
   "source": [
    "Посмотрим на признак **package**:"
   ]
  },
  {
   "cell_type": "code",
   "execution_count": 23,
   "metadata": {},
   "outputs": [
    {
     "data": {
      "text/plain": [
       "Базовая       11386\n",
       "Comfort         983\n",
       "Base            576\n",
       "Luxe            353\n",
       "Standard        277\n",
       "Classic         262\n",
       "Elegance        236\n",
       "Prestige        217\n",
       "Active          182\n",
       "SE              182\n",
       "Стандарт        166\n",
       "Люкс            146\n",
       "Cosmo           135\n",
       "Sport           132\n",
       "Норма           125\n",
       "Ghia            121\n",
       "Norma           114\n",
       "Premium         110\n",
       "Expression      100\n",
       "Titanium        100\n",
       "Name: package, dtype: int64"
      ]
     },
     "execution_count": 23,
     "metadata": {},
     "output_type": "execute_result"
    }
   ],
   "source": [
    "cars['package'].value_counts()[:20]"
   ]
  },
  {
   "cell_type": "markdown",
   "metadata": {},
   "source": [
    "Видно, что многие уникальные значения означают одно и то же, только записаны по-разному (Norma и Норма, например). Заменим некоторые значения:"
   ]
  },
  {
   "cell_type": "code",
   "execution_count": 24,
   "metadata": {},
   "outputs": [],
   "source": [
    "packages = {\n",
    "    'Базовая': 'Base', 'Base': 'Base',\n",
    "    'SE': 'SE', 'Особая серия': 'SE',\n",
    "    'Lux': 'Luxe', 'Люкс': 'Luxe',\n",
    "    'Норма': 'Norma', 'Norma': 'Norma',\n",
    "    'Sport': 'Sport', 'HSE': 'HSE',\n",
    "    'Стандарт': 'Standard', 'Standart': 'Standard',             \n",
    "    'Комфорт': 'Comfort', 'Confort': 'Comfort',\n",
    "    'Comfort': 'Comfort', 'Premium': 'Premium',\n",
    "    'Enjoy': 'Enjoy', 'Executive': 'Executive',\n",
    "    'Special edition': 'SE', 'Limited Edition': 'LE',\n",
    "    'Limited': 'LE', 'Active': 'Active',\n",
    "    'Prestige': 'Prestige', 'Invite': 'Invite',\n",
    "    'Business': 'Business', 'Trendline': 'Trend'\n",
    "}"
   ]
  },
  {
   "cell_type": "code",
   "execution_count": 25,
   "metadata": {},
   "outputs": [],
   "source": [
    "def same_package(value):\n",
    "    for package in packages:\n",
    "        if package in value:\n",
    "            return packages.get(package)\n",
    "    return value"
   ]
  },
  {
   "cell_type": "code",
   "execution_count": 26,
   "metadata": {},
   "outputs": [],
   "source": [
    "cars['package'] = cars['package'].apply(lambda x: same_package(x))"
   ]
  },
  {
   "cell_type": "code",
   "execution_count": 27,
   "metadata": {},
   "outputs": [
    {
     "data": {
      "text/plain": [
       "Base            11966\n",
       "Comfort          1396\n",
       "Luxe              772\n",
       "Standard          491\n",
       "SE                411\n",
       "                ...  \n",
       "In13B               1\n",
       "Impulse Line        1\n",
       "21109 Консул        1\n",
       "Shogun              1\n",
       "Momentum+           1\n",
       "Name: package, Length: 430, dtype: int64"
      ]
     },
     "execution_count": 27,
     "metadata": {},
     "output_type": "execute_result"
    }
   ],
   "source": [
    "cars['package'].value_counts()"
   ]
  },
  {
   "cell_type": "markdown",
   "metadata": {},
   "source": [
    "### 4. Выявление аномалий "
   ]
  },
  {
   "cell_type": "code",
   "execution_count": 28,
   "metadata": {},
   "outputs": [
    {
     "data": {
      "text/html": [
       "<div>\n",
       "<style scoped>\n",
       "    .dataframe tbody tr th:only-of-type {\n",
       "        vertical-align: middle;\n",
       "    }\n",
       "\n",
       "    .dataframe tbody tr th {\n",
       "        vertical-align: top;\n",
       "    }\n",
       "\n",
       "    .dataframe thead th {\n",
       "        text-align: right;\n",
       "    }\n",
       "</style>\n",
       "<table border=\"1\" class=\"dataframe\">\n",
       "  <thead>\n",
       "    <tr style=\"text-align: right;\">\n",
       "      <th></th>\n",
       "      <th>modification</th>\n",
       "      <th>year</th>\n",
       "      <th>mileage</th>\n",
       "      <th>doors_num</th>\n",
       "      <th>price</th>\n",
       "    </tr>\n",
       "  </thead>\n",
       "  <tbody>\n",
       "    <tr>\n",
       "      <th>count</th>\n",
       "      <td>20489.000000</td>\n",
       "      <td>20489.000000</td>\n",
       "      <td>20489.000000</td>\n",
       "      <td>20489.000000</td>\n",
       "      <td>2.048900e+04</td>\n",
       "    </tr>\n",
       "    <tr>\n",
       "      <th>mean</th>\n",
       "      <td>123.404070</td>\n",
       "      <td>2008.163063</td>\n",
       "      <td>151018.297818</td>\n",
       "      <td>4.393919</td>\n",
       "      <td>4.839746e+05</td>\n",
       "    </tr>\n",
       "    <tr>\n",
       "      <th>std</th>\n",
       "      <td>49.879753</td>\n",
       "      <td>7.478546</td>\n",
       "      <td>87838.121650</td>\n",
       "      <td>0.745142</td>\n",
       "      <td>5.740985e+05</td>\n",
       "    </tr>\n",
       "    <tr>\n",
       "      <th>min</th>\n",
       "      <td>23.000000</td>\n",
       "      <td>1937.000000</td>\n",
       "      <td>1.000000</td>\n",
       "      <td>2.000000</td>\n",
       "      <td>1.000000e+00</td>\n",
       "    </tr>\n",
       "    <tr>\n",
       "      <th>25%</th>\n",
       "      <td>89.000000</td>\n",
       "      <td>2005.000000</td>\n",
       "      <td>95000.000000</td>\n",
       "      <td>4.000000</td>\n",
       "      <td>1.700000e+05</td>\n",
       "    </tr>\n",
       "    <tr>\n",
       "      <th>50%</th>\n",
       "      <td>110.000000</td>\n",
       "      <td>2009.000000</td>\n",
       "      <td>140000.000000</td>\n",
       "      <td>5.000000</td>\n",
       "      <td>3.400000e+05</td>\n",
       "    </tr>\n",
       "    <tr>\n",
       "      <th>75%</th>\n",
       "      <td>143.000000</td>\n",
       "      <td>2013.000000</td>\n",
       "      <td>190000.000000</td>\n",
       "      <td>5.000000</td>\n",
       "      <td>5.900000e+05</td>\n",
       "    </tr>\n",
       "    <tr>\n",
       "      <th>max</th>\n",
       "      <td>585.000000</td>\n",
       "      <td>2020.000000</td>\n",
       "      <td>1000000.000000</td>\n",
       "      <td>5.000000</td>\n",
       "      <td>1.372340e+07</td>\n",
       "    </tr>\n",
       "  </tbody>\n",
       "</table>\n",
       "</div>"
      ],
      "text/plain": [
       "       modification          year         mileage     doors_num         price\n",
       "count  20489.000000  20489.000000    20489.000000  20489.000000  2.048900e+04\n",
       "mean     123.404070   2008.163063   151018.297818      4.393919  4.839746e+05\n",
       "std       49.879753      7.478546    87838.121650      0.745142  5.740985e+05\n",
       "min       23.000000   1937.000000        1.000000      2.000000  1.000000e+00\n",
       "25%       89.000000   2005.000000    95000.000000      4.000000  1.700000e+05\n",
       "50%      110.000000   2009.000000   140000.000000      5.000000  3.400000e+05\n",
       "75%      143.000000   2013.000000   190000.000000      5.000000  5.900000e+05\n",
       "max      585.000000   2020.000000  1000000.000000      5.000000  1.372340e+07"
      ]
     },
     "execution_count": 28,
     "metadata": {},
     "output_type": "execute_result"
    }
   ],
   "source": [
    "cars.describe()"
   ]
  },
  {
   "cell_type": "markdown",
   "metadata": {},
   "source": [
    "Из таблицы видно, что в датасете присутствует аномальное объявление с ценой \"1\".   \n",
    "Также максимальное значение пробега 1.000.000 км выглядит подозрительно, как и пробег 1 км, нужно удалить строки с данными значениями."
   ]
  },
  {
   "cell_type": "code",
   "execution_count": 38,
   "metadata": {},
   "outputs": [],
   "source": [
    "cars = cars[(cars['price'] < cars.price.quantile(0.99)) & (cars['price'] > cars.price.quantile(0.01))]\n",
    "cars = cars[~((cars['mileage'] <= 1000) | (cars['mileage'] >= 900000))]"
   ]
  },
  {
   "cell_type": "code",
   "execution_count": 40,
   "metadata": {},
   "outputs": [
    {
     "data": {
      "text/html": [
       "<div>\n",
       "<style scoped>\n",
       "    .dataframe tbody tr th:only-of-type {\n",
       "        vertical-align: middle;\n",
       "    }\n",
       "\n",
       "    .dataframe tbody tr th {\n",
       "        vertical-align: top;\n",
       "    }\n",
       "\n",
       "    .dataframe thead th {\n",
       "        text-align: right;\n",
       "    }\n",
       "</style>\n",
       "<table border=\"1\" class=\"dataframe\">\n",
       "  <thead>\n",
       "    <tr style=\"text-align: right;\">\n",
       "      <th></th>\n",
       "      <th>modification</th>\n",
       "      <th>year</th>\n",
       "      <th>mileage</th>\n",
       "      <th>doors_num</th>\n",
       "      <th>price</th>\n",
       "    </tr>\n",
       "  </thead>\n",
       "  <tbody>\n",
       "    <tr>\n",
       "      <th>count</th>\n",
       "      <td>19983.000000</td>\n",
       "      <td>19983.000000</td>\n",
       "      <td>19983.000000</td>\n",
       "      <td>19983.000000</td>\n",
       "      <td>1.998300e+04</td>\n",
       "    </tr>\n",
       "    <tr>\n",
       "      <th>mean</th>\n",
       "      <td>122.566982</td>\n",
       "      <td>2008.168243</td>\n",
       "      <td>151567.233649</td>\n",
       "      <td>4.393535</td>\n",
       "      <td>4.499874e+05</td>\n",
       "    </tr>\n",
       "    <tr>\n",
       "      <th>std</th>\n",
       "      <td>47.640082</td>\n",
       "      <td>7.307467</td>\n",
       "      <td>84961.586753</td>\n",
       "      <td>0.745293</td>\n",
       "      <td>4.149588e+05</td>\n",
       "    </tr>\n",
       "    <tr>\n",
       "      <th>min</th>\n",
       "      <td>23.000000</td>\n",
       "      <td>1937.000000</td>\n",
       "      <td>1145.000000</td>\n",
       "      <td>2.000000</td>\n",
       "      <td>2.800000e+04</td>\n",
       "    </tr>\n",
       "    <tr>\n",
       "      <th>25%</th>\n",
       "      <td>89.000000</td>\n",
       "      <td>2006.000000</td>\n",
       "      <td>95472.500000</td>\n",
       "      <td>4.000000</td>\n",
       "      <td>1.750000e+05</td>\n",
       "    </tr>\n",
       "    <tr>\n",
       "      <th>50%</th>\n",
       "      <td>110.000000</td>\n",
       "      <td>2009.000000</td>\n",
       "      <td>141000.000000</td>\n",
       "      <td>5.000000</td>\n",
       "      <td>3.399900e+05</td>\n",
       "    </tr>\n",
       "    <tr>\n",
       "      <th>75%</th>\n",
       "      <td>143.000000</td>\n",
       "      <td>2013.000000</td>\n",
       "      <td>190000.000000</td>\n",
       "      <td>5.000000</td>\n",
       "      <td>5.800000e+05</td>\n",
       "    </tr>\n",
       "    <tr>\n",
       "      <th>max</th>\n",
       "      <td>585.000000</td>\n",
       "      <td>2020.000000</td>\n",
       "      <td>807000.000000</td>\n",
       "      <td>5.000000</td>\n",
       "      <td>2.899000e+06</td>\n",
       "    </tr>\n",
       "  </tbody>\n",
       "</table>\n",
       "</div>"
      ],
      "text/plain": [
       "       modification          year        mileage     doors_num         price\n",
       "count  19983.000000  19983.000000   19983.000000  19983.000000  1.998300e+04\n",
       "mean     122.566982   2008.168243  151567.233649      4.393535  4.499874e+05\n",
       "std       47.640082      7.307467   84961.586753      0.745293  4.149588e+05\n",
       "min       23.000000   1937.000000    1145.000000      2.000000  2.800000e+04\n",
       "25%       89.000000   2006.000000   95472.500000      4.000000  1.750000e+05\n",
       "50%      110.000000   2009.000000  141000.000000      5.000000  3.399900e+05\n",
       "75%      143.000000   2013.000000  190000.000000      5.000000  5.800000e+05\n",
       "max      585.000000   2020.000000  807000.000000      5.000000  2.899000e+06"
      ]
     },
     "execution_count": 40,
     "metadata": {},
     "output_type": "execute_result"
    }
   ],
   "source": [
    "cars.describe()"
   ]
  },
  {
   "cell_type": "markdown",
   "metadata": {},
   "source": [
    "Сохраним очищенные и подготовленные данные в файл preprocessed_data.csv"
   ]
  },
  {
   "cell_type": "code",
   "execution_count": 44,
   "metadata": {},
   "outputs": [],
   "source": [
    "cars.to_csv('data/preprocessed_data.csv', index=False)"
   ]
  }
 ],
 "metadata": {
  "kernelspec": {
   "display_name": "Python 3",
   "language": "python",
   "name": "python3"
  },
  "language_info": {
   "codemirror_mode": {
    "name": "ipython",
    "version": 3
   },
   "file_extension": ".py",
   "mimetype": "text/x-python",
   "name": "python",
   "nbconvert_exporter": "python",
   "pygments_lexer": "ipython3",
   "version": "3.7.1"
  }
 },
 "nbformat": 4,
 "nbformat_minor": 2
}
